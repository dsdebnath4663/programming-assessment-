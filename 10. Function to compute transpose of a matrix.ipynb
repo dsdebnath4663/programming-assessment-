{
 "cells": [
  {
   "cell_type": "code",
   "execution_count": null,
   "id": "0deb4d84-f5da-40fa-89d8-c80e9ea45942",
   "metadata": {},
   "outputs": [],
   "source": [
    "def transpose_matrix(matrix):\n",
    "    return [[matrix[j][i] for j in range(len(matrix))] for i in range(len(matrix[0]))]\n",
    "\n",
    "# Test case for transpose_matrix function\n",
    "matrix = [[1, 2, 3], [4, 5, 6]]\n",
    "print(transpose_matrix(matrix))  # Output: [[1, 4], [2, 5], [3, 6]]\n"
   ]
  }
 ],
 "metadata": {
  "kernelspec": {
   "display_name": "Python 3 (ipykernel)",
   "language": "python",
   "name": "python3"
  },
  "language_info": {
   "codemirror_mode": {
    "name": "ipython",
    "version": 3
   },
   "file_extension": ".py",
   "mimetype": "text/x-python",
   "name": "python",
   "nbconvert_exporter": "python",
   "pygments_lexer": "ipython3",
   "version": "3.12.4"
  }
 },
 "nbformat": 4,
 "nbformat_minor": 5
}
