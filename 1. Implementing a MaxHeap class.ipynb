{
 "cells": [
  {
   "cell_type": "code",
   "execution_count": 2,
   "id": "5578f0b6-2317-4945-bef1-4762082a9279",
   "metadata": {},
   "outputs": [
    {
     "name": "stdout",
     "output_type": "stream",
     "text": [
      "10\n",
      "10\n",
      "7\n"
     ]
    }
   ],
   "source": [
    "class MaxHeap:\n",
    "    def __init__(self):\n",
    "        self.heap = []\n",
    "    \n",
    "    def insert(self, val):\n",
    "        self.heap.append(val)\n",
    "        self._heapify_up(len(self.heap) - 1)\n",
    "    \n",
    "    def delete(self):\n",
    "        if len(self.heap) == 0:\n",
    "            raise IndexError(\"Heap is empty\")\n",
    "        if len(self.heap) == 1:\n",
    "            return self.heap.pop()\n",
    "        \n",
    "        max_val = self.heap[0]\n",
    "        self.heap[0] = self.heap.pop()\n",
    "        self._heapify_down(0)\n",
    "        return max_val\n",
    "    \n",
    "    def get_max(self):\n",
    "        if len(self.heap) == 0:\n",
    "            raise IndexError(\"Heap is empty\")\n",
    "        return self.heap[0]\n",
    "    \n",
    "    def _heapify_up(self, idx):\n",
    "        parent = (idx - 1) // 2\n",
    "        if idx > 0 and self.heap[idx] > self.heap[parent]:\n",
    "            self.heap[idx], self.heap[parent] = self.heap[parent], self.heap[idx]\n",
    "            self._heapify_up(parent)\n",
    "    \n",
    "    def _heapify_down(self, idx):\n",
    "        left = 2 * idx + 1\n",
    "        right = 2 * idx + 2\n",
    "        largest = idx\n",
    "        \n",
    "        if left < len(self.heap) and self.heap[left] > self.heap[largest]:\n",
    "            largest = left\n",
    "        if right < len(self.heap) and self.heap[right] > self.heap[largest]:\n",
    "            largest = right\n",
    "        \n",
    "        if largest != idx:\n",
    "            self.heap[idx], self.heap[largest] = self.heap[largest], self.heap[idx]\n",
    "            self._heapify_down(largest)\n",
    "            \n",
    "            # Test case for MaxHeap class\n",
    "max_heap = MaxHeap()\n",
    "max_heap.insert(5)\n",
    "max_heap.insert(10)\n",
    "max_heap.insert(7)\n",
    "max_heap.insert(3)\n",
    "print(max_heap.get_max())  # Output: 10\n",
    "print(max_heap.delete())   # Output: 10\n",
    "print(max_heap.get_max())  # Output: 7"
   ]
  },
  {
   "cell_type": "code",
   "execution_count": null,
   "id": "c1844ea0-9745-4a84-a333-49953cbc142a",
   "metadata": {},
   "outputs": [],
   "source": []
  }
 ],
 "metadata": {
  "kernelspec": {
   "display_name": "Python 3 (ipykernel)",
   "language": "python",
   "name": "python3"
  },
  "language_info": {
   "codemirror_mode": {
    "name": "ipython",
    "version": 3
   },
   "file_extension": ".py",
   "mimetype": "text/x-python",
   "name": "python",
   "nbconvert_exporter": "python",
   "pygments_lexer": "ipython3",
   "version": "3.12.4"
  }
 },
 "nbformat": 4,
 "nbformat_minor": 5
}
