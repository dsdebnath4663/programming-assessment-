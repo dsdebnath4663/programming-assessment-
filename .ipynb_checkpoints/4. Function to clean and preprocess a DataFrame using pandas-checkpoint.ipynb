{
 "cells": [
  {
   "cell_type": "code",
   "execution_count": null,
   "id": "0ba2bdd2-ddb4-4aa2-ad45-d188e4e8a050",
   "metadata": {},
   "outputs": [],
   "source": [
    "import pandas as pd\n",
    "from sklearn.preprocessing import StandardScaler, OneHotEncoder\n",
    "from sklearn.impute import SimpleImputer\n",
    "\n",
    "def preprocess_dataframe(df):\n",
    "    # Handling missing values\n",
    "    imputer = SimpleImputer(strategy='mean')\n",
    "    df[['numerical_column']] = imputer.fit_transform(df[['numerical_column']])\n",
    "    \n",
    "    # Normalizing numerical columns\n",
    "    scaler = StandardScaler()\n",
    "    df[['numerical_column']] = scaler.fit_transform(df[['numerical_column']])\n",
    "    \n",
    "    # Encoding categorical columns\n",
    "    encoder = OneHotEncoder()\n",
    "    encoded_cols = pd.DataFrame(encoder.fit_transform(df[['categorical_column']]).toarray(), columns=encoder.get_feature_names(['categorical_column']))\n",
    "    df = pd.concat([df, encoded_cols], axis=1)\n",
    "    \n",
    "    return df\n",
    "\n",
    "# Example usage and test case\n",
    "# df = ...  # Your DataFrame\n",
    "# cleaned_df = preprocess_dataframe(df)\n"
   ]
  }
 ],
 "metadata": {
  "kernelspec": {
   "display_name": "Python 3 (ipykernel)",
   "language": "python",
   "name": "python3"
  },
  "language_info": {
   "codemirror_mode": {
    "name": "ipython",
    "version": 3
   },
   "file_extension": ".py",
   "mimetype": "text/x-python",
   "name": "python",
   "nbconvert_exporter": "python",
   "pygments_lexer": "ipython3",
   "version": "3.12.4"
  }
 },
 "nbformat": 4,
 "nbformat_minor": 5
}
