{
 "cells": [
  {
   "cell_type": "code",
   "execution_count": null,
   "id": "1d2daaef-ce99-4631-8f8d-00dee790b4e1",
   "metadata": {},
   "outputs": [],
   "source": [
    "import random\n",
    "import string\n",
    "\n",
    "def generate_password(length=12):\n",
    "    characters = string.ascii_letters + string.digits + string.punctuation\n",
    "    return ''.join(random.choice(characters) for _ in range(length))\n",
    "\n",
    "# Test case for generate_password function\n",
    "print(generate_password())  # Output: Random password of default length (12)\n"
   ]
  }
 ],
 "metadata": {
  "kernelspec": {
   "display_name": "Python 3 (ipykernel)",
   "language": "python",
   "name": "python3"
  },
  "language_info": {
   "codemirror_mode": {
    "name": "ipython",
    "version": 3
   },
   "file_extension": ".py",
   "mimetype": "text/x-python",
   "name": "python",
   "nbconvert_exporter": "python",
   "pygments_lexer": "ipython3",
   "version": "3.12.4"
  }
 },
 "nbformat": 4,
 "nbformat_minor": 5
}
