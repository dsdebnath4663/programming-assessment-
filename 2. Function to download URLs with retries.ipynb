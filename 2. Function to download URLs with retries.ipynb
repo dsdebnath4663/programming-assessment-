{
 "cells": [
  {
   "cell_type": "code",
   "execution_count": 2,
   "id": "dec9bd21-20de-4d29-a9ed-8f96ba0122ee",
   "metadata": {},
   "outputs": [
    {
     "name": "stdout",
     "output_type": "stream",
     "text": [
      "Downloaded https://www.example.com successfully\n",
      "Downloaded https://www.nonexistenturl.com successfully\n"
     ]
    }
   ],
   "source": [
    "import requests\n",
    "from time import sleep\n",
    "\n",
    "def download_urls(urls):\n",
    "    for url in urls:\n",
    "        retries = 3\n",
    "        while retries > 0:\n",
    "            try:\n",
    "                response = requests.get(url)\n",
    "                response.raise_for_status()\n",
    "                print(f\"Downloaded {url} successfully\")\n",
    "                break\n",
    "            except requests.exceptions.HTTPError as errh:\n",
    "                print(f\"HTTP Error: {errh}\")\n",
    "            except requests.exceptions.ConnectionError as errc:\n",
    "                print(f\"Error Connecting: {errc}\")\n",
    "            except requests.exceptions.Timeout as errt:\n",
    "                print(f\"Timeout Error: {errt}\")\n",
    "            except requests.exceptions.RequestException as err:\n",
    "                print(f\"Request Exception: {err}\")\n",
    "            retries -= 1\n",
    "            sleep(1)  # Wait before retrying\n",
    "\n",
    "# Test case for download_urls function\n",
    "test_urls = [\"https://www.example.com\", \"https://www.nonexistenturl.com\"]\n",
    "download_urls(test_urls)\n"
   ]
  },
  {
   "cell_type": "code",
   "execution_count": null,
   "id": "36882874-ce1e-4655-9a4f-d48fbe36dbf8",
   "metadata": {},
   "outputs": [],
   "source": []
  }
 ],
 "metadata": {
  "kernelspec": {
   "display_name": "Python 3 (ipykernel)",
   "language": "python",
   "name": "python3"
  },
  "language_info": {
   "codemirror_mode": {
    "name": "ipython",
    "version": 3
   },
   "file_extension": ".py",
   "mimetype": "text/x-python",
   "name": "python",
   "nbconvert_exporter": "python",
   "pygments_lexer": "ipython3",
   "version": "3.12.4"
  }
 },
 "nbformat": 4,
 "nbformat_minor": 5
}
