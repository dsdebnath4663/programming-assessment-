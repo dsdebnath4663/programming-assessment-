{
 "cells": [
  {
   "cell_type": "code",
   "execution_count": null,
   "id": "0d57196e-0702-4149-a79f-5e4f7d366dff",
   "metadata": {},
   "outputs": [],
   "source": [
    "def perform_operation(a, b, operator):\n",
    "    if operator == '+':\n",
    "        return a + b\n",
    "    elif operator == '-':\n",
    "        return a - b\n",
    "    elif operator == '*':\n",
    "        return a * b\n",
    "    elif operator == '/':\n",
    "        if b == 0:\n",
    "            raise ValueError(\"Cannot divide by zero!\")\n",
    "        return a / b\n",
    "    else:\n",
    "        raise ValueError(\"Invalid operator\")\n",
    "\n",
    "# Test case for perform_operation function\n",
    "try:\n",
    "    result = perform_operation(10, 5, '+')\n",
    "    print(result)\n",
    "    result = perform_operation(10, 5, '/')\n",
    "    print(result)\n",
    "except ValueError as e:\n",
    "    print(e)\n"
   ]
  }
 ],
 "metadata": {
  "kernelspec": {
   "display_name": "Python 3 (ipykernel)",
   "language": "python",
   "name": "python3"
  },
  "language_info": {
   "codemirror_mode": {
    "name": "ipython",
    "version": 3
   },
   "file_extension": ".py",
   "mimetype": "text/x-python",
   "name": "python",
   "nbconvert_exporter": "python",
   "pygments_lexer": "ipython3",
   "version": "3.12.4"
  }
 },
 "nbformat": 4,
 "nbformat_minor": 5
}
